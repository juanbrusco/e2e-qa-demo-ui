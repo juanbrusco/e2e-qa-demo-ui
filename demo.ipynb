{
 "cells": [
  {
   "cell_type": "code",
   "execution_count": null,
   "metadata": {},
   "outputs": [],
   "source": [
    "%pip install --upgrade pip\n",
    "%pip install git+https://github.com/deepset-ai/haystack.git\n",
    "\n",
    "from haystack.utils import print_answers, convert_files_to_docs, clean_wiki_text, fetch_archive_from_http \n",
    "from haystack.nodes import FARMReader, TransformersReader\n",
    "from haystack.document_stores import InMemoryDocumentStore\n",
    "document_store = InMemoryDocumentStore()\n",
    "\n",
    "storage = \"extraction/GoT\"\n",
    "storage_http = \"https://s3.eu-central-1.amazonaws.com/deepset.ai-farm-qa/datasets/documents/wiki_gameofthrones_txt3.zip\"\n",
    "fetch_archive_from_http(url=storage_http, output_dir=storage)\n",
    "files = convert_files_to_docs(dir_path=storage, clean_func=clean_wiki_text, split_paragraphs=True)\n",
    "document_store.write_documents(files)\n",
    "\n",
    "from haystack.nodes import TfidfRetriever\n",
    "extractor = TfidfRetriever(document_store=document_store)\n",
    "insights = FARMReader(model_name_or_path=\"deepset/roberta-large-squad2\", use_gpu=True)\n",
    "\n",
    "from haystack.pipelines import ExtractiveQAPipeline\n",
    "pipe = ExtractiveQAPipeline(insights, extractor)\n",
    "\n",
    "prediction = pipe.run(\n",
    "    query=\"Who is Sansa's sister?\", params={\n",
    "    \"Retriever\": {\n",
    "        \"top_k\": 50\n",
    "    },\n",
    "    \"Reader\": {\n",
    "        \"top_k\": 3\n",
    "    }\n",
    "})\n",
    "\n",
    "from pprint import pprint\n",
    "pprint(prediction)\n",
    "print_answers(prediction, details=\"minimum\")"
   ]
  }
 ],
 "metadata": {
  "kernelspec": {
   "display_name": "Python 3.9.14 64-bit",
   "language": "python",
   "name": "python3"
  },
  "language_info": {
   "name": "python",
   "version": "3.9.14"
  },
  "orig_nbformat": 4,
  "vscode": {
   "interpreter": {
    "hash": "397704579725e15f5c7cb49fe5f0341eb7531c82d19f2c29d197e8b64ab5776b"
   }
  }
 },
 "nbformat": 4,
 "nbformat_minor": 2
}
